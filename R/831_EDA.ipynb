{
  "nbformat": 4,
  "nbformat_minor": 0,
  "metadata": {
    "colab": {
      "name": "831 EDA.ipynb",
      "provenance": []
    },
    "kernelspec": {
      "name": "python3",
      "display_name": "Python 3"
    }
  },
  "cells": [
    {
      "cell_type": "code",
      "metadata": {
        "id": "Dgn40oqeT6tb",
        "colab_type": "code",
        "colab": {
          "base_uri": "https://localhost:8080/",
          "height": 54
        },
        "outputId": "08d7244e-81e0-440a-c383-7cc0111876c3"
      },
      "source": [
        "import pandas as pd\n",
        "import numpy as ny\n",
        "import seaborn as sns; sns.set()\n",
        "import matplotlib.pyplot as plt\n",
        "\n"
      ],
      "execution_count": null,
      "outputs": [
        {
          "output_type": "stream",
          "text": [
            "/usr/local/lib/python3.6/dist-packages/statsmodels/tools/_testing.py:19: FutureWarning: pandas.util.testing is deprecated. Use the functions in the public API at pandas.testing instead.\n",
            "  import pandas.util.testing as tm\n"
          ],
          "name": "stderr"
        }
      ]
    },
    {
      "cell_type": "markdown",
      "metadata": {
        "id": "Pq0ndUyeVYkT",
        "colab_type": "text"
      },
      "source": [
        "Loading the train data"
      ]
    },
    {
      "cell_type": "code",
      "metadata": {
        "id": "EHu6tNF4UpF8",
        "colab_type": "code",
        "colab": {}
      },
      "source": [
        "protrain = pd.read_csv('/content/processed_train.csv')"
      ],
      "execution_count": null,
      "outputs": []
    },
    {
      "cell_type": "code",
      "metadata": {
        "id": "92OGCtSy4RpC",
        "colab_type": "code",
        "colab": {
          "base_uri": "https://localhost:8080/",
          "height": 54
        },
        "outputId": "241488c3-2f56-45ae-a250-7dacc9200ec6"
      },
      "source": [
        ""
      ],
      "execution_count": null,
      "outputs": [
        {
          "output_type": "stream",
          "text": [
            "/usr/local/lib/python3.6/dist-packages/IPython/core/interactiveshell.py:2718: DtypeWarning: Columns (598,600,601) have mixed types.Specify dtype option on import or set low_memory=False.\n",
            "  interactivity=interactivity, compiler=compiler, result=result)\n"
          ],
          "name": "stderr"
        }
      ]
    },
    {
      "cell_type": "markdown",
      "metadata": {
        "id": "CxSYgz3bVaUy",
        "colab_type": "text"
      },
      "source": [
        "Initial Observations EDA"
      ]
    },
    {
      "cell_type": "code",
      "metadata": {
        "id": "1jZK0zNAe3ha",
        "colab_type": "code",
        "colab": {
          "base_uri": "https://localhost:8080/",
          "height": 109
        },
        "outputId": "1b18ebb1-0cf0-4b12-c095-e5405c2b31ea"
      },
      "source": [
        "protrain.info() "
      ],
      "execution_count": null,
      "outputs": [
        {
          "output_type": "stream",
          "text": [
            "<class 'pandas.core.frame.DataFrame'>\n",
            "RangeIndex: 50006 entries, 0 to 50005\n",
            "Columns: 713 entries, tot_page_views to hv_replay_capable_flag_new\n",
            "dtypes: float64(94), int64(619)\n",
            "memory usage: 272.0 MB\n"
          ],
          "name": "stdout"
        }
      ]
    },
    {
      "cell_type": "code",
      "metadata": {
        "id": "sg_ln5X3u-Wd",
        "colab_type": "code",
        "colab": {
          "base_uri": "https://localhost:8080/",
          "height": 35
        },
        "outputId": "4bf19fb8-c61f-447d-eaa6-0a89ce41dfc1"
      },
      "source": [
        "protrain.shape #713 columns, 50,006 records"
      ],
      "execution_count": null,
      "outputs": [
        {
          "output_type": "execute_result",
          "data": {
            "text/plain": [
              "(50006, 713)"
            ]
          },
          "metadata": {
            "tags": []
          },
          "execution_count": 12
        }
      ]
    },
    {
      "cell_type": "code",
      "metadata": {
        "id": "3h4n1QwRVnqD",
        "colab_type": "code",
        "colab": {}
      },
      "source": [
        "protrain.sample(5)"
      ],
      "execution_count": null,
      "outputs": []
    },
    {
      "cell_type": "code",
      "metadata": {
        "id": "Btzr7N1HZIDw",
        "colab_type": "code",
        "colab": {
          "base_uri": "https://localhost:8080/",
          "height": 350
        },
        "outputId": "ca757db2-376f-4711-96f6-a0818f81d05e"
      },
      "source": [
        "protrain.describe() "
      ],
      "execution_count": null,
      "outputs": [
        {
          "output_type": "execute_result",
          "data": {
            "text/html": [
              "<div>\n",
              "<style scoped>\n",
              "    .dataframe tbody tr th:only-of-type {\n",
              "        vertical-align: middle;\n",
              "    }\n",
              "\n",
              "    .dataframe tbody tr th {\n",
              "        vertical-align: top;\n",
              "    }\n",
              "\n",
              "    .dataframe thead th {\n",
              "        text-align: right;\n",
              "    }\n",
              "</style>\n",
              "<table border=\"1\" class=\"dataframe\">\n",
              "  <thead>\n",
              "    <tr style=\"text-align: right;\">\n",
              "      <th></th>\n",
              "      <th>tot_page_views</th>\n",
              "      <th>tot_page_views_l30d</th>\n",
              "      <th>tot_page_views_l90d</th>\n",
              "      <th>tot_visits</th>\n",
              "      <th>tot_visits_l30d</th>\n",
              "      <th>tot_visits_l90d</th>\n",
              "      <th>log_in_events</th>\n",
              "      <th>internal_search_events</th>\n",
              "      <th>internal_campaign_events</th>\n",
              "      <th>find_retailer_events</th>\n",
              "      <th>buy_now_events</th>\n",
              "      <th>download_trial_events</th>\n",
              "      <th>contact_support_events</th>\n",
              "      <th>support_search_events</th>\n",
              "      <th>get_pricing_events</th>\n",
              "      <th>find_a_partner_events</th>\n",
              "      <th>form_success_events</th>\n",
              "      <th>form_abandon_events</th>\n",
              "      <th>product_view_events</th>\n",
              "      <th>cart_open_events</th>\n",
              "      <th>cart_add_events</th>\n",
              "      <th>cart_remove_events</th>\n",
              "      <th>cart_view_events</th>\n",
              "      <th>campaign_view_events</th>\n",
              "      <th>checkout_s1_events</th>\n",
              "      <th>purchase_events</th>\n",
              "      <th>survey_display_events</th>\n",
              "      <th>survey_submit_events</th>\n",
              "      <th>paid_search_events</th>\n",
              "      <th>natural_search_events</th>\n",
              "      <th>video_view_events</th>\n",
              "      <th>campaign_src_events</th>\n",
              "      <th>file_download_events</th>\n",
              "      <th>tot_google_browser_page_views</th>\n",
              "      <th>tot_mozilla_browser_page_views</th>\n",
              "      <th>tot_microsoft_browser_page_views</th>\n",
              "      <th>tot_apple_browser_page_views</th>\n",
              "      <th>tot_opera_browser_page_views</th>\n",
              "      <th>tot_other_browser_page_views</th>\n",
              "      <th>tot_internal_ref_page_views</th>\n",
              "      <th>...</th>\n",
              "      <th>geo_dunssite_others</th>\n",
              "      <th>geo_dunssite_new</th>\n",
              "      <th>sic_2_description_others</th>\n",
              "      <th>sic_2_description_new</th>\n",
              "      <th>sic_4_description_others</th>\n",
              "      <th>sic_4_description_new</th>\n",
              "      <th>gu_city_others</th>\n",
              "      <th>gu_city_new</th>\n",
              "      <th>gu_state_others</th>\n",
              "      <th>gu_state_new</th>\n",
              "      <th>gu_iso_country_name_UNITED.STATES</th>\n",
              "      <th>gu_iso_country_name_others</th>\n",
              "      <th>gu_iso_country_name_new</th>\n",
              "      <th>gu_country_region_NORAM</th>\n",
              "      <th>gu_country_region_others</th>\n",
              "      <th>gu_country_region_new</th>\n",
              "      <th>gu_country_geo_EMEA</th>\n",
              "      <th>gu_country_geo_Missing</th>\n",
              "      <th>gu_country_geo_others</th>\n",
              "      <th>gu_country_geo_new</th>\n",
              "      <th>final_vertical_gu_others</th>\n",
              "      <th>final_vertical_gu_new</th>\n",
              "      <th>gu_sic_2_description_others</th>\n",
              "      <th>gu_sic_2_description_new</th>\n",
              "      <th>gu_sic_4_description_others</th>\n",
              "      <th>gu_sic_4_description_new</th>\n",
              "      <th>gu_emp_segment_others</th>\n",
              "      <th>gu_emp_segment_new</th>\n",
              "      <th>gu_emp_segment_desc_others</th>\n",
              "      <th>gu_emp_segment_desc_new</th>\n",
              "      <th>final_vertical_dunssite_others</th>\n",
              "      <th>final_vertical_dunssite_new</th>\n",
              "      <th>idc_verticals_others</th>\n",
              "      <th>idc_verticals_new</th>\n",
              "      <th>new_segment_others</th>\n",
              "      <th>new_segment_new</th>\n",
              "      <th>hyperthreading_active_flag_others</th>\n",
              "      <th>hyperthreading_active_flag_new</th>\n",
              "      <th>hv_replay_capable_flag_others</th>\n",
              "      <th>hv_replay_capable_flag_new</th>\n",
              "    </tr>\n",
              "  </thead>\n",
              "  <tbody>\n",
              "    <tr>\n",
              "      <th>count</th>\n",
              "      <td>50006.000000</td>\n",
              "      <td>50006.000000</td>\n",
              "      <td>50006.000000</td>\n",
              "      <td>50006.000000</td>\n",
              "      <td>50006.000000</td>\n",
              "      <td>50006.000000</td>\n",
              "      <td>50006.000000</td>\n",
              "      <td>50006.000000</td>\n",
              "      <td>50006.000000</td>\n",
              "      <td>50006.000000</td>\n",
              "      <td>50006.000000</td>\n",
              "      <td>50006.000000</td>\n",
              "      <td>50006.000000</td>\n",
              "      <td>50006.000000</td>\n",
              "      <td>50006.000000</td>\n",
              "      <td>50006.000000</td>\n",
              "      <td>50006.000000</td>\n",
              "      <td>50006.000000</td>\n",
              "      <td>50006.000000</td>\n",
              "      <td>50006.000000</td>\n",
              "      <td>50006.000000</td>\n",
              "      <td>50006.000000</td>\n",
              "      <td>50006.000000</td>\n",
              "      <td>50006.000000</td>\n",
              "      <td>50006.000000</td>\n",
              "      <td>50006.000000</td>\n",
              "      <td>50006.000000</td>\n",
              "      <td>50006.000000</td>\n",
              "      <td>50006.000000</td>\n",
              "      <td>50006.000000</td>\n",
              "      <td>50006.000000</td>\n",
              "      <td>50006.000000</td>\n",
              "      <td>50006.000000</td>\n",
              "      <td>50006.000000</td>\n",
              "      <td>50006.000000</td>\n",
              "      <td>50006.000000</td>\n",
              "      <td>50006.000000</td>\n",
              "      <td>50006.000000</td>\n",
              "      <td>50006.000000</td>\n",
              "      <td>50006.000000</td>\n",
              "      <td>...</td>\n",
              "      <td>50006.000000</td>\n",
              "      <td>50006.0</td>\n",
              "      <td>50006.000000</td>\n",
              "      <td>50006.0</td>\n",
              "      <td>50006.000000</td>\n",
              "      <td>50006.0</td>\n",
              "      <td>50006.000000</td>\n",
              "      <td>50006.0</td>\n",
              "      <td>50006.000000</td>\n",
              "      <td>50006.0</td>\n",
              "      <td>50006.000000</td>\n",
              "      <td>50006.000000</td>\n",
              "      <td>50006.0</td>\n",
              "      <td>50006.000000</td>\n",
              "      <td>50006.000000</td>\n",
              "      <td>50006.0</td>\n",
              "      <td>50006.000000</td>\n",
              "      <td>50006.000000</td>\n",
              "      <td>50006.000000</td>\n",
              "      <td>50006.0</td>\n",
              "      <td>50006.000000</td>\n",
              "      <td>50006.0</td>\n",
              "      <td>50006.000000</td>\n",
              "      <td>50006.0</td>\n",
              "      <td>50006.000000</td>\n",
              "      <td>50006.0</td>\n",
              "      <td>50006.000000</td>\n",
              "      <td>50006.0</td>\n",
              "      <td>50006.000000</td>\n",
              "      <td>50006.0</td>\n",
              "      <td>50006.000000</td>\n",
              "      <td>50006.0</td>\n",
              "      <td>50006.000000</td>\n",
              "      <td>50006.0</td>\n",
              "      <td>50006.000000</td>\n",
              "      <td>50006.0</td>\n",
              "      <td>50006.000000</td>\n",
              "      <td>50006.0</td>\n",
              "      <td>50006.000000</td>\n",
              "      <td>50006.0</td>\n",
              "    </tr>\n",
              "    <tr>\n",
              "      <th>mean</th>\n",
              "      <td>73.433288</td>\n",
              "      <td>13.383994</td>\n",
              "      <td>36.071491</td>\n",
              "      <td>12.854197</td>\n",
              "      <td>2.382554</td>\n",
              "      <td>6.428089</td>\n",
              "      <td>67.805303</td>\n",
              "      <td>1.133624</td>\n",
              "      <td>0.000080</td>\n",
              "      <td>0.000020</td>\n",
              "      <td>0.030316</td>\n",
              "      <td>0.177499</td>\n",
              "      <td>0.002500</td>\n",
              "      <td>0.229292</td>\n",
              "      <td>0.025397</td>\n",
              "      <td>0.004899</td>\n",
              "      <td>0.218314</td>\n",
              "      <td>0.107247</td>\n",
              "      <td>75.070132</td>\n",
              "      <td>0.500100</td>\n",
              "      <td>0.368996</td>\n",
              "      <td>0.003420</td>\n",
              "      <td>0.992141</td>\n",
              "      <td>1.044275</td>\n",
              "      <td>73.213234</td>\n",
              "      <td>81.427709</td>\n",
              "      <td>0.000060</td>\n",
              "      <td>0.000060</td>\n",
              "      <td>0.035536</td>\n",
              "      <td>11.126945</td>\n",
              "      <td>1.303764</td>\n",
              "      <td>0.358257</td>\n",
              "      <td>0.831300</td>\n",
              "      <td>39.987861</td>\n",
              "      <td>21.208255</td>\n",
              "      <td>19.366656</td>\n",
              "      <td>4.497580</td>\n",
              "      <td>0.077091</td>\n",
              "      <td>0.340039</td>\n",
              "      <td>38.984222</td>\n",
              "      <td>...</td>\n",
              "      <td>0.039415</td>\n",
              "      <td>0.0</td>\n",
              "      <td>0.267888</td>\n",
              "      <td>0.0</td>\n",
              "      <td>0.267888</td>\n",
              "      <td>0.0</td>\n",
              "      <td>0.266968</td>\n",
              "      <td>0.0</td>\n",
              "      <td>0.251090</td>\n",
              "      <td>0.0</td>\n",
              "      <td>0.105707</td>\n",
              "      <td>0.162580</td>\n",
              "      <td>0.0</td>\n",
              "      <td>0.118886</td>\n",
              "      <td>0.149402</td>\n",
              "      <td>0.0</td>\n",
              "      <td>0.101148</td>\n",
              "      <td>0.731712</td>\n",
              "      <td>0.038875</td>\n",
              "      <td>0.0</td>\n",
              "      <td>0.259989</td>\n",
              "      <td>0.0</td>\n",
              "      <td>0.268028</td>\n",
              "      <td>0.0</td>\n",
              "      <td>0.268028</td>\n",
              "      <td>0.0</td>\n",
              "      <td>0.268488</td>\n",
              "      <td>0.0</td>\n",
              "      <td>0.268488</td>\n",
              "      <td>0.0</td>\n",
              "      <td>0.267888</td>\n",
              "      <td>0.0</td>\n",
              "      <td>0.267888</td>\n",
              "      <td>0.0</td>\n",
              "      <td>0.217974</td>\n",
              "      <td>0.0</td>\n",
              "      <td>0.027937</td>\n",
              "      <td>0.0</td>\n",
              "      <td>0.027937</td>\n",
              "      <td>0.0</td>\n",
              "    </tr>\n",
              "    <tr>\n",
              "      <th>std</th>\n",
              "      <td>760.254988</td>\n",
              "      <td>134.119192</td>\n",
              "      <td>377.833496</td>\n",
              "      <td>162.130164</td>\n",
              "      <td>28.586230</td>\n",
              "      <td>82.373655</td>\n",
              "      <td>678.805295</td>\n",
              "      <td>20.080458</td>\n",
              "      <td>0.008943</td>\n",
              "      <td>0.004472</td>\n",
              "      <td>0.225468</td>\n",
              "      <td>0.802761</td>\n",
              "      <td>0.055258</td>\n",
              "      <td>1.667076</td>\n",
              "      <td>0.224209</td>\n",
              "      <td>0.102542</td>\n",
              "      <td>0.678312</td>\n",
              "      <td>0.490727</td>\n",
              "      <td>784.151478</td>\n",
              "      <td>2.819247</td>\n",
              "      <td>2.556437</td>\n",
              "      <td>0.213082</td>\n",
              "      <td>20.243465</td>\n",
              "      <td>8.597505</td>\n",
              "      <td>757.942959</td>\n",
              "      <td>819.949048</td>\n",
              "      <td>0.007745</td>\n",
              "      <td>0.009999</td>\n",
              "      <td>0.449151</td>\n",
              "      <td>124.951282</td>\n",
              "      <td>43.054739</td>\n",
              "      <td>2.804145</td>\n",
              "      <td>20.120543</td>\n",
              "      <td>409.205579</td>\n",
              "      <td>273.639829</td>\n",
              "      <td>255.969396</td>\n",
              "      <td>80.381213</td>\n",
              "      <td>5.145101</td>\n",
              "      <td>8.670267</td>\n",
              "      <td>399.594445</td>\n",
              "      <td>...</td>\n",
              "      <td>0.194583</td>\n",
              "      <td>0.0</td>\n",
              "      <td>0.442863</td>\n",
              "      <td>0.0</td>\n",
              "      <td>0.442863</td>\n",
              "      <td>0.0</td>\n",
              "      <td>0.442380</td>\n",
              "      <td>0.0</td>\n",
              "      <td>0.433644</td>\n",
              "      <td>0.0</td>\n",
              "      <td>0.307466</td>\n",
              "      <td>0.368986</td>\n",
              "      <td>0.0</td>\n",
              "      <td>0.323657</td>\n",
              "      <td>0.356488</td>\n",
              "      <td>0.0</td>\n",
              "      <td>0.301527</td>\n",
              "      <td>0.443073</td>\n",
              "      <td>0.193300</td>\n",
              "      <td>0.0</td>\n",
              "      <td>0.438633</td>\n",
              "      <td>0.0</td>\n",
              "      <td>0.442937</td>\n",
              "      <td>0.0</td>\n",
              "      <td>0.442937</td>\n",
              "      <td>0.0</td>\n",
              "      <td>0.443177</td>\n",
              "      <td>0.0</td>\n",
              "      <td>0.443177</td>\n",
              "      <td>0.0</td>\n",
              "      <td>0.442863</td>\n",
              "      <td>0.0</td>\n",
              "      <td>0.442863</td>\n",
              "      <td>0.0</td>\n",
              "      <td>0.412874</td>\n",
              "      <td>0.0</td>\n",
              "      <td>0.164793</td>\n",
              "      <td>0.0</td>\n",
              "      <td>0.164793</td>\n",
              "      <td>0.0</td>\n",
              "    </tr>\n",
              "    <tr>\n",
              "      <th>min</th>\n",
              "      <td>0.000000</td>\n",
              "      <td>0.000000</td>\n",
              "      <td>0.000000</td>\n",
              "      <td>1.000000</td>\n",
              "      <td>0.000000</td>\n",
              "      <td>0.000000</td>\n",
              "      <td>0.000000</td>\n",
              "      <td>0.000000</td>\n",
              "      <td>0.000000</td>\n",
              "      <td>0.000000</td>\n",
              "      <td>0.000000</td>\n",
              "      <td>0.000000</td>\n",
              "      <td>0.000000</td>\n",
              "      <td>0.000000</td>\n",
              "      <td>0.000000</td>\n",
              "      <td>0.000000</td>\n",
              "      <td>0.000000</td>\n",
              "      <td>0.000000</td>\n",
              "      <td>0.000000</td>\n",
              "      <td>0.000000</td>\n",
              "      <td>0.000000</td>\n",
              "      <td>0.000000</td>\n",
              "      <td>0.000000</td>\n",
              "      <td>0.000000</td>\n",
              "      <td>0.000000</td>\n",
              "      <td>1.000000</td>\n",
              "      <td>0.000000</td>\n",
              "      <td>0.000000</td>\n",
              "      <td>0.000000</td>\n",
              "      <td>0.000000</td>\n",
              "      <td>0.000000</td>\n",
              "      <td>0.000000</td>\n",
              "      <td>0.000000</td>\n",
              "      <td>0.000000</td>\n",
              "      <td>0.000000</td>\n",
              "      <td>0.000000</td>\n",
              "      <td>0.000000</td>\n",
              "      <td>0.000000</td>\n",
              "      <td>0.000000</td>\n",
              "      <td>0.000000</td>\n",
              "      <td>...</td>\n",
              "      <td>0.000000</td>\n",
              "      <td>0.0</td>\n",
              "      <td>0.000000</td>\n",
              "      <td>0.0</td>\n",
              "      <td>0.000000</td>\n",
              "      <td>0.0</td>\n",
              "      <td>0.000000</td>\n",
              "      <td>0.0</td>\n",
              "      <td>0.000000</td>\n",
              "      <td>0.0</td>\n",
              "      <td>0.000000</td>\n",
              "      <td>0.000000</td>\n",
              "      <td>0.0</td>\n",
              "      <td>0.000000</td>\n",
              "      <td>0.000000</td>\n",
              "      <td>0.0</td>\n",
              "      <td>0.000000</td>\n",
              "      <td>0.000000</td>\n",
              "      <td>0.000000</td>\n",
              "      <td>0.0</td>\n",
              "      <td>0.000000</td>\n",
              "      <td>0.0</td>\n",
              "      <td>0.000000</td>\n",
              "      <td>0.0</td>\n",
              "      <td>0.000000</td>\n",
              "      <td>0.0</td>\n",
              "      <td>0.000000</td>\n",
              "      <td>0.0</td>\n",
              "      <td>0.000000</td>\n",
              "      <td>0.0</td>\n",
              "      <td>0.000000</td>\n",
              "      <td>0.0</td>\n",
              "      <td>0.000000</td>\n",
              "      <td>0.0</td>\n",
              "      <td>0.000000</td>\n",
              "      <td>0.0</td>\n",
              "      <td>0.000000</td>\n",
              "      <td>0.0</td>\n",
              "      <td>0.000000</td>\n",
              "      <td>0.0</td>\n",
              "    </tr>\n",
              "    <tr>\n",
              "      <th>25%</th>\n",
              "      <td>7.000000</td>\n",
              "      <td>0.000000</td>\n",
              "      <td>0.000000</td>\n",
              "      <td>1.000000</td>\n",
              "      <td>0.000000</td>\n",
              "      <td>0.000000</td>\n",
              "      <td>7.000000</td>\n",
              "      <td>0.000000</td>\n",
              "      <td>0.000000</td>\n",
              "      <td>0.000000</td>\n",
              "      <td>0.000000</td>\n",
              "      <td>0.000000</td>\n",
              "      <td>0.000000</td>\n",
              "      <td>0.000000</td>\n",
              "      <td>0.000000</td>\n",
              "      <td>0.000000</td>\n",
              "      <td>0.000000</td>\n",
              "      <td>0.000000</td>\n",
              "      <td>7.000000</td>\n",
              "      <td>0.000000</td>\n",
              "      <td>0.000000</td>\n",
              "      <td>0.000000</td>\n",
              "      <td>0.000000</td>\n",
              "      <td>0.000000</td>\n",
              "      <td>7.000000</td>\n",
              "      <td>8.000000</td>\n",
              "      <td>0.000000</td>\n",
              "      <td>0.000000</td>\n",
              "      <td>0.000000</td>\n",
              "      <td>0.000000</td>\n",
              "      <td>0.000000</td>\n",
              "      <td>0.000000</td>\n",
              "      <td>0.000000</td>\n",
              "      <td>0.000000</td>\n",
              "      <td>0.000000</td>\n",
              "      <td>0.000000</td>\n",
              "      <td>0.000000</td>\n",
              "      <td>0.000000</td>\n",
              "      <td>0.000000</td>\n",
              "      <td>3.000000</td>\n",
              "      <td>...</td>\n",
              "      <td>0.000000</td>\n",
              "      <td>0.0</td>\n",
              "      <td>0.000000</td>\n",
              "      <td>0.0</td>\n",
              "      <td>0.000000</td>\n",
              "      <td>0.0</td>\n",
              "      <td>0.000000</td>\n",
              "      <td>0.0</td>\n",
              "      <td>0.000000</td>\n",
              "      <td>0.0</td>\n",
              "      <td>0.000000</td>\n",
              "      <td>0.000000</td>\n",
              "      <td>0.0</td>\n",
              "      <td>0.000000</td>\n",
              "      <td>0.000000</td>\n",
              "      <td>0.0</td>\n",
              "      <td>0.000000</td>\n",
              "      <td>0.000000</td>\n",
              "      <td>0.000000</td>\n",
              "      <td>0.0</td>\n",
              "      <td>0.000000</td>\n",
              "      <td>0.0</td>\n",
              "      <td>0.000000</td>\n",
              "      <td>0.0</td>\n",
              "      <td>0.000000</td>\n",
              "      <td>0.0</td>\n",
              "      <td>0.000000</td>\n",
              "      <td>0.0</td>\n",
              "      <td>0.000000</td>\n",
              "      <td>0.0</td>\n",
              "      <td>0.000000</td>\n",
              "      <td>0.0</td>\n",
              "      <td>0.000000</td>\n",
              "      <td>0.0</td>\n",
              "      <td>0.000000</td>\n",
              "      <td>0.0</td>\n",
              "      <td>0.000000</td>\n",
              "      <td>0.0</td>\n",
              "      <td>0.000000</td>\n",
              "      <td>0.0</td>\n",
              "    </tr>\n",
              "    <tr>\n",
              "      <th>50%</th>\n",
              "      <td>19.000000</td>\n",
              "      <td>0.000000</td>\n",
              "      <td>5.000000</td>\n",
              "      <td>3.000000</td>\n",
              "      <td>0.000000</td>\n",
              "      <td>1.000000</td>\n",
              "      <td>18.000000</td>\n",
              "      <td>0.000000</td>\n",
              "      <td>0.000000</td>\n",
              "      <td>0.000000</td>\n",
              "      <td>0.000000</td>\n",
              "      <td>0.000000</td>\n",
              "      <td>0.000000</td>\n",
              "      <td>0.000000</td>\n",
              "      <td>0.000000</td>\n",
              "      <td>0.000000</td>\n",
              "      <td>0.000000</td>\n",
              "      <td>0.000000</td>\n",
              "      <td>19.000000</td>\n",
              "      <td>0.000000</td>\n",
              "      <td>0.000000</td>\n",
              "      <td>0.000000</td>\n",
              "      <td>0.000000</td>\n",
              "      <td>0.000000</td>\n",
              "      <td>19.000000</td>\n",
              "      <td>21.000000</td>\n",
              "      <td>0.000000</td>\n",
              "      <td>0.000000</td>\n",
              "      <td>0.000000</td>\n",
              "      <td>1.000000</td>\n",
              "      <td>0.000000</td>\n",
              "      <td>0.000000</td>\n",
              "      <td>0.000000</td>\n",
              "      <td>2.000000</td>\n",
              "      <td>0.000000</td>\n",
              "      <td>0.000000</td>\n",
              "      <td>0.000000</td>\n",
              "      <td>0.000000</td>\n",
              "      <td>0.000000</td>\n",
              "      <td>10.000000</td>\n",
              "      <td>...</td>\n",
              "      <td>0.000000</td>\n",
              "      <td>0.0</td>\n",
              "      <td>0.000000</td>\n",
              "      <td>0.0</td>\n",
              "      <td>0.000000</td>\n",
              "      <td>0.0</td>\n",
              "      <td>0.000000</td>\n",
              "      <td>0.0</td>\n",
              "      <td>0.000000</td>\n",
              "      <td>0.0</td>\n",
              "      <td>0.000000</td>\n",
              "      <td>0.000000</td>\n",
              "      <td>0.0</td>\n",
              "      <td>0.000000</td>\n",
              "      <td>0.000000</td>\n",
              "      <td>0.0</td>\n",
              "      <td>0.000000</td>\n",
              "      <td>1.000000</td>\n",
              "      <td>0.000000</td>\n",
              "      <td>0.0</td>\n",
              "      <td>0.000000</td>\n",
              "      <td>0.0</td>\n",
              "      <td>0.000000</td>\n",
              "      <td>0.0</td>\n",
              "      <td>0.000000</td>\n",
              "      <td>0.0</td>\n",
              "      <td>0.000000</td>\n",
              "      <td>0.0</td>\n",
              "      <td>0.000000</td>\n",
              "      <td>0.0</td>\n",
              "      <td>0.000000</td>\n",
              "      <td>0.0</td>\n",
              "      <td>0.000000</td>\n",
              "      <td>0.0</td>\n",
              "      <td>0.000000</td>\n",
              "      <td>0.0</td>\n",
              "      <td>0.000000</td>\n",
              "      <td>0.0</td>\n",
              "      <td>0.000000</td>\n",
              "      <td>0.0</td>\n",
              "    </tr>\n",
              "    <tr>\n",
              "      <th>75%</th>\n",
              "      <td>55.000000</td>\n",
              "      <td>5.000000</td>\n",
              "      <td>25.000000</td>\n",
              "      <td>9.000000</td>\n",
              "      <td>1.000000</td>\n",
              "      <td>4.000000</td>\n",
              "      <td>51.000000</td>\n",
              "      <td>0.000000</td>\n",
              "      <td>0.000000</td>\n",
              "      <td>0.000000</td>\n",
              "      <td>0.000000</td>\n",
              "      <td>0.000000</td>\n",
              "      <td>0.000000</td>\n",
              "      <td>0.000000</td>\n",
              "      <td>0.000000</td>\n",
              "      <td>0.000000</td>\n",
              "      <td>0.000000</td>\n",
              "      <td>0.000000</td>\n",
              "      <td>56.000000</td>\n",
              "      <td>0.000000</td>\n",
              "      <td>0.000000</td>\n",
              "      <td>0.000000</td>\n",
              "      <td>0.000000</td>\n",
              "      <td>0.000000</td>\n",
              "      <td>55.000000</td>\n",
              "      <td>62.000000</td>\n",
              "      <td>0.000000</td>\n",
              "      <td>0.000000</td>\n",
              "      <td>0.000000</td>\n",
              "      <td>6.000000</td>\n",
              "      <td>0.000000</td>\n",
              "      <td>0.000000</td>\n",
              "      <td>0.000000</td>\n",
              "      <td>22.000000</td>\n",
              "      <td>5.000000</td>\n",
              "      <td>5.000000</td>\n",
              "      <td>0.000000</td>\n",
              "      <td>0.000000</td>\n",
              "      <td>0.000000</td>\n",
              "      <td>29.000000</td>\n",
              "      <td>...</td>\n",
              "      <td>0.000000</td>\n",
              "      <td>0.0</td>\n",
              "      <td>1.000000</td>\n",
              "      <td>0.0</td>\n",
              "      <td>1.000000</td>\n",
              "      <td>0.0</td>\n",
              "      <td>1.000000</td>\n",
              "      <td>0.0</td>\n",
              "      <td>1.000000</td>\n",
              "      <td>0.0</td>\n",
              "      <td>0.000000</td>\n",
              "      <td>0.000000</td>\n",
              "      <td>0.0</td>\n",
              "      <td>0.000000</td>\n",
              "      <td>0.000000</td>\n",
              "      <td>0.0</td>\n",
              "      <td>0.000000</td>\n",
              "      <td>1.000000</td>\n",
              "      <td>0.000000</td>\n",
              "      <td>0.0</td>\n",
              "      <td>1.000000</td>\n",
              "      <td>0.0</td>\n",
              "      <td>1.000000</td>\n",
              "      <td>0.0</td>\n",
              "      <td>1.000000</td>\n",
              "      <td>0.0</td>\n",
              "      <td>1.000000</td>\n",
              "      <td>0.0</td>\n",
              "      <td>1.000000</td>\n",
              "      <td>0.0</td>\n",
              "      <td>1.000000</td>\n",
              "      <td>0.0</td>\n",
              "      <td>1.000000</td>\n",
              "      <td>0.0</td>\n",
              "      <td>0.000000</td>\n",
              "      <td>0.0</td>\n",
              "      <td>0.000000</td>\n",
              "      <td>0.0</td>\n",
              "      <td>0.000000</td>\n",
              "      <td>0.0</td>\n",
              "    </tr>\n",
              "    <tr>\n",
              "      <th>max</th>\n",
              "      <td>110111.000000</td>\n",
              "      <td>18082.000000</td>\n",
              "      <td>55806.000000</td>\n",
              "      <td>24439.000000</td>\n",
              "      <td>4477.000000</td>\n",
              "      <td>12879.000000</td>\n",
              "      <td>103725.000000</td>\n",
              "      <td>3057.000000</td>\n",
              "      <td>1.000000</td>\n",
              "      <td>1.000000</td>\n",
              "      <td>9.000000</td>\n",
              "      <td>87.000000</td>\n",
              "      <td>4.000000</td>\n",
              "      <td>252.000000</td>\n",
              "      <td>11.000000</td>\n",
              "      <td>13.000000</td>\n",
              "      <td>43.000000</td>\n",
              "      <td>29.000000</td>\n",
              "      <td>112847.000000</td>\n",
              "      <td>437.000000</td>\n",
              "      <td>328.000000</td>\n",
              "      <td>46.000000</td>\n",
              "      <td>3136.000000</td>\n",
              "      <td>617.000000</td>\n",
              "      <td>109775.000000</td>\n",
              "      <td>119587.000000</td>\n",
              "      <td>1.000000</td>\n",
              "      <td>2.000000</td>\n",
              "      <td>64.000000</td>\n",
              "      <td>16966.000000</td>\n",
              "      <td>5735.000000</td>\n",
              "      <td>256.000000</td>\n",
              "      <td>3141.000000</td>\n",
              "      <td>62694.000000</td>\n",
              "      <td>40250.000000</td>\n",
              "      <td>50978.000000</td>\n",
              "      <td>11467.000000</td>\n",
              "      <td>998.000000</td>\n",
              "      <td>784.000000</td>\n",
              "      <td>58531.000000</td>\n",
              "      <td>...</td>\n",
              "      <td>1.000000</td>\n",
              "      <td>0.0</td>\n",
              "      <td>1.000000</td>\n",
              "      <td>0.0</td>\n",
              "      <td>1.000000</td>\n",
              "      <td>0.0</td>\n",
              "      <td>1.000000</td>\n",
              "      <td>0.0</td>\n",
              "      <td>1.000000</td>\n",
              "      <td>0.0</td>\n",
              "      <td>1.000000</td>\n",
              "      <td>1.000000</td>\n",
              "      <td>0.0</td>\n",
              "      <td>1.000000</td>\n",
              "      <td>1.000000</td>\n",
              "      <td>0.0</td>\n",
              "      <td>1.000000</td>\n",
              "      <td>1.000000</td>\n",
              "      <td>1.000000</td>\n",
              "      <td>0.0</td>\n",
              "      <td>1.000000</td>\n",
              "      <td>0.0</td>\n",
              "      <td>1.000000</td>\n",
              "      <td>0.0</td>\n",
              "      <td>1.000000</td>\n",
              "      <td>0.0</td>\n",
              "      <td>1.000000</td>\n",
              "      <td>0.0</td>\n",
              "      <td>1.000000</td>\n",
              "      <td>0.0</td>\n",
              "      <td>1.000000</td>\n",
              "      <td>0.0</td>\n",
              "      <td>1.000000</td>\n",
              "      <td>0.0</td>\n",
              "      <td>1.000000</td>\n",
              "      <td>0.0</td>\n",
              "      <td>1.000000</td>\n",
              "      <td>0.0</td>\n",
              "      <td>1.000000</td>\n",
              "      <td>0.0</td>\n",
              "    </tr>\n",
              "  </tbody>\n",
              "</table>\n",
              "<p>8 rows × 713 columns</p>\n",
              "</div>"
            ],
            "text/plain": [
              "       tot_page_views  ...  hv_replay_capable_flag_new\n",
              "count    50006.000000  ...                     50006.0\n",
              "mean        73.433288  ...                         0.0\n",
              "std        760.254988  ...                         0.0\n",
              "min          0.000000  ...                         0.0\n",
              "25%          7.000000  ...                         0.0\n",
              "50%         19.000000  ...                         0.0\n",
              "75%         55.000000  ...                         0.0\n",
              "max     110111.000000  ...                         0.0\n",
              "\n",
              "[8 rows x 713 columns]"
            ]
          },
          "metadata": {
            "tags": []
          },
          "execution_count": 13
        }
      ]
    },
    {
      "cell_type": "code",
      "metadata": {
        "id": "n-ZYZGTb3jZA",
        "colab_type": "code",
        "colab": {}
      },
      "source": [
        "print (protrain.isnull().values.any())"
      ],
      "execution_count": null,
      "outputs": []
    },
    {
      "cell_type": "code",
      "metadata": {
        "id": "uzsNuO7C4sQN",
        "colab_type": "code",
        "colab": {}
      },
      "source": [
        ""
      ],
      "execution_count": null,
      "outputs": []
    },
    {
      "cell_type": "markdown",
      "metadata": {
        "id": "7q1g294l-UDz",
        "colab_type": "text"
      },
      "source": [
        "Target Variable Exploration Data Analysis"
      ]
    },
    {
      "cell_type": "code",
      "metadata": {
        "id": "vYmcJC-M9sO5",
        "colab_type": "code",
        "colab": {}
      },
      "source": [
        "protrain.target.value_counts().plot.bar() #Shows distribution of values in the Target column\n",
        "plt.show() #plots a bar chart\n",
        "\n",
        "#Add to Report"
      ],
      "execution_count": null,
      "outputs": []
    },
    {
      "cell_type": "markdown",
      "metadata": {
        "id": "GMiITALTh2PC",
        "colab_type": "text"
      },
      "source": [
        "Numerical Data Distribution"
      ]
    },
    {
      "cell_type": "code",
      "metadata": {
        "id": "gnLI6dC2Y5zI",
        "colab_type": "code",
        "colab": {
          "base_uri": "https://localhost:8080/",
          "height": 35
        },
        "outputId": "3abfde7f-f3a4-455f-fd3e-2c04810b2d6c"
      },
      "source": [
        "list(set(protrain.dtypes.tolist()))\n"
      ],
      "execution_count": null,
      "outputs": [
        {
          "output_type": "execute_result",
          "data": {
            "text/plain": [
              "[dtype('int64'), dtype('float64')]"
            ]
          },
          "metadata": {
            "tags": []
          },
          "execution_count": 4
        }
      ]
    },
    {
      "cell_type": "code",
      "metadata": {
        "id": "RWltSvXqim_M",
        "colab_type": "code",
        "colab": {}
      },
      "source": [
        "protrain_num = protrain.select_dtypes(include = ['float64', 'int64'])\n",
        "protrain_num.head()"
      ],
      "execution_count": null,
      "outputs": []
    },
    {
      "cell_type": "markdown",
      "metadata": {
        "id": "5fNroipMN75M",
        "colab_type": "text"
      },
      "source": [
        "Correlation Matrix"
      ]
    },
    {
      "cell_type": "code",
      "metadata": {
        "id": "aoj8EHZiXiN_",
        "colab_type": "code",
        "colab": {
          "base_uri": "https://localhost:8080/",
          "height": 667
        },
        "outputId": "b3a1cfd0-a036-4d61-8df1-0b34fe2e79ce"
      },
      "source": [
        "# Correlation matrix of top 10 most correlated variables\n",
        "correlation = protrain.select_dtypes(include=ny.number).corr()\n",
        "cor_target = correlation['target']\n",
        "## Heatmap of feature with High correlations\n",
        "plt.figure(figsize=(10,8))\n",
        "k = 10\n",
        "top10 = correlation.nlargest(k, 'target')['target'].index\n",
        "cm = ny.corrcoef(protrain[top10].to_numpy().T)\n",
        "sns.heatmap(cm, vmax=0.8, linewidths=0.01, square=True, annot=True, cmap='viridis', linecolor=\"white\", \\\n",
        "            xticklabels=top10.values, yticklabels=top10.values)\n",
        "plt.show()\n",
        "\n",
        "#Add to Report"
      ],
      "execution_count": null,
      "outputs": [
        {
          "output_type": "display_data",
          "data": {
            "image/png": "[encoded data removed]",
            "text/plain": [
              "<Figure size 720x576 with 2 Axes>"
            ]
          },
          "metadata": {
            "tags": [],
            "needs_background": "light"
          }
        }
      ]
    },
    {
      "cell_type": "code",
      "metadata": {
        "id": "coQpaf-Ri2rU",
        "colab_type": "code",
        "colab": {}
      },
      "source": [
        "#protrain.hist(figsize=(16, 20), bins=50, xlabelsize=8, ylabelsize=8) #Way too many variables to plot"
      ],
      "execution_count": null,
      "outputs": []
    },
    {
      "cell_type": "code",
      "metadata": {
        "id": "_x6LoGgV8UFT",
        "colab_type": "code",
        "colab": {
          "base_uri": "https://localhost:8080/",
          "height": 109
        },
        "outputId": "45c285e8-5e3d-48dc-8fee-5f4c46188dab"
      },
      "source": [
        "print(top10)"
      ],
      "execution_count": null,
      "outputs": [
        {
          "output_type": "stream",
          "text": [
            "Index(['target', 'tgt_hol', 'tgt_first_date_hol_page_view',\n",
            "       'tgt_first_date_any_download', 'tgt_download', 'tgt_more_than1',\n",
            "       'tot_prod10_hol_page_views', 'tgt_webinar',\n",
            "       'tgt_first_date_webinar_page_view', 'tot_prod10_hol_reg'],\n",
            "      dtype='object')\n"
          ],
          "name": "stdout"
        }
      ]
    },
    {
      "cell_type": "markdown",
      "metadata": {
        "id": "JlqK2OSiTqvC",
        "colab_type": "text"
      },
      "source": [
        "Data Normalization"
      ]
    },
    {
      "cell_type": "code",
      "metadata": {
        "id": "_gnU8Jmv65V7",
        "colab_type": "code",
        "colab": {}
      },
      "source": [
        "from scipy.stats import norm, skew"
      ],
      "execution_count": null,
      "outputs": []
    },
    {
      "cell_type": "code",
      "metadata": {
        "id": "nhDRXvsMCaPy",
        "colab_type": "code",
        "colab": {}
      },
      "source": [
        "# Check the skew of all numerical features\n",
        "#skewed_feats = protrain[target].apply(lambda x: skew(x.dropna())).sort_values(ascending=False)\n",
        "#print(\"\\nSkewness the in numerical features: \\n\")\n",
        "#skewness = pd.DataFrame({'Skew' :skewed_feats})\n",
        "#skewness.head(15)"
      ],
      "execution_count": null,
      "outputs": []
    },
    {
      "cell_type": "code",
      "metadata": {
        "id": "0lIBMCe3CeYs",
        "colab_type": "code",
        "colab": {
          "base_uri": "https://localhost:8080/",
          "height": 284
        },
        "outputId": "943181da-4625-4884-da2a-6844895775c2"
      },
      "source": [
        "#Skewness for tgt hol\n",
        "sns.distplot(protrain['tgt_hol'], kde=True, bins=20)\n",
        "plt.title(\"Density Distribution: tgt_hol\")\n",
        "plt.xlabel(\"\")\n",
        "plt.ylabel(\"Count\")\n",
        "plt.show()\n",
        "\n",
        "#Add to Report"
      ],
      "execution_count": null,
      "outputs": [
        {
          "output_type": "display_data",
          "data": {
            "image/png": "[encoded data removed]",
            "text/plain": [
              "<Figure size 432x288 with 1 Axes>"
            ]
          },
          "metadata": {
            "tags": []
          }
        }
      ]
    },
    {
      "cell_type": "code",
      "metadata": {
        "id": "S3FCnF2K_vRH",
        "colab_type": "code",
        "colab": {
          "base_uri": "https://localhost:8080/",
          "height": 284
        },
        "outputId": "58027f0f-18a2-4fdb-8f32-c37207d23d83"
      },
      "source": [
        "#Skewness for tgt first date hol page view\n",
        "sns.distplot(protrain['tgt_first_date_hol_page_view'], kde=True, bins=20)\n",
        "plt.title(\"Density Distribution: tgt_first_date_hol_page_view\")\n",
        "plt.xlabel(\"\")\n",
        "plt.ylabel(\"Count\")\n",
        "plt.show()\n",
        "\n",
        "#Add to Report\n"
      ],
      "execution_count": null,
      "outputs": [
        {
          "output_type": "display_data",
          "data": {
            "image/png": "[encoded data removed]",
            "text/plain": [
              "<Figure size 432x288 with 1 Axes>"
            ]
          },
          "metadata": {
            "tags": []
          }
        }
      ]
    },
    {
      "cell_type": "code",
      "metadata": {
        "id": "1MHEAYyx9axs",
        "colab_type": "code",
        "colab": {}
      },
      "source": [
        ""
      ],
      "execution_count": null,
      "outputs": []
    },
    {
      "cell_type": "code",
      "metadata": {
        "id": "bMrzZ1H_OKIS",
        "colab_type": "code",
        "colab": {}
      },
      "source": [
        ""
      ],
      "execution_count": null,
      "outputs": []
    },
    {
      "cell_type": "code",
      "metadata": {
        "id": "SR8eP0sXOYFZ",
        "colab_type": "code",
        "colab": {}
      },
      "source": [
        ""
      ],
      "execution_count": null,
      "outputs": []
    }
  ]
}